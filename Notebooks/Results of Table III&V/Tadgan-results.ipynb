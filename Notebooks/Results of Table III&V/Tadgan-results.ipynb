{
 "cells": [
  {
   "cell_type": "code",
   "execution_count": 111,
   "id": "24d0509f-a0f3-4077-b607-948c823e8481",
   "metadata": {},
   "outputs": [
    {
     "data": {
      "text/html": [
       "<div>\n",
       "<style scoped>\n",
       "    .dataframe tbody tr th:only-of-type {\n",
       "        vertical-align: middle;\n",
       "    }\n",
       "\n",
       "    .dataframe tbody tr th {\n",
       "        vertical-align: top;\n",
       "    }\n",
       "\n",
       "    .dataframe thead th {\n",
       "        text-align: right;\n",
       "    }\n",
       "</style>\n",
       "<table border=\"1\" class=\"dataframe\">\n",
       "  <thead>\n",
       "    <tr style=\"text-align: right;\">\n",
       "      <th></th>\n",
       "      <th>dataset</th>\n",
       "      <th>pipeline</th>\n",
       "      <th>signal</th>\n",
       "      <th>iteration</th>\n",
       "      <th>f1</th>\n",
       "      <th>recall</th>\n",
       "      <th>precision</th>\n",
       "      <th>tn</th>\n",
       "      <th>fp</th>\n",
       "      <th>fn</th>\n",
       "      <th>tp</th>\n",
       "      <th>status</th>\n",
       "      <th>elapsed</th>\n",
       "      <th>split</th>\n",
       "      <th>run_id</th>\n",
       "    </tr>\n",
       "  </thead>\n",
       "  <tbody>\n",
       "    <tr>\n",
       "      <th>2460</th>\n",
       "      <td>MSL</td>\n",
       "      <td>tadgan</td>\n",
       "      <td>C-1</td>\n",
       "      <td>0</td>\n",
       "      <td>NaN</td>\n",
       "      <td>0.0</td>\n",
       "      <td>NaN</td>\n",
       "      <td>NaN</td>\n",
       "      <td>0</td>\n",
       "      <td>2</td>\n",
       "      <td>0</td>\n",
       "      <td>OK</td>\n",
       "      <td>253.075683</td>\n",
       "      <td>True</td>\n",
       "      <td>188dd61b-a</td>\n",
       "    </tr>\n",
       "    <tr>\n",
       "      <th>2461</th>\n",
       "      <td>MSL</td>\n",
       "      <td>tadgan</td>\n",
       "      <td>C-2</td>\n",
       "      <td>0</td>\n",
       "      <td>NaN</td>\n",
       "      <td>0.0</td>\n",
       "      <td>NaN</td>\n",
       "      <td>NaN</td>\n",
       "      <td>0</td>\n",
       "      <td>2</td>\n",
       "      <td>0</td>\n",
       "      <td>OK</td>\n",
       "      <td>104.173888</td>\n",
       "      <td>True</td>\n",
       "      <td>188dd61b-a</td>\n",
       "    </tr>\n",
       "    <tr>\n",
       "      <th>2462</th>\n",
       "      <td>MSL</td>\n",
       "      <td>tadgan</td>\n",
       "      <td>D-14</td>\n",
       "      <td>0</td>\n",
       "      <td>1.0</td>\n",
       "      <td>1.0</td>\n",
       "      <td>1.0</td>\n",
       "      <td>NaN</td>\n",
       "      <td>0</td>\n",
       "      <td>0</td>\n",
       "      <td>2</td>\n",
       "      <td>OK</td>\n",
       "      <td>439.866897</td>\n",
       "      <td>True</td>\n",
       "      <td>188dd61b-a</td>\n",
       "    </tr>\n",
       "    <tr>\n",
       "      <th>2463</th>\n",
       "      <td>MSL</td>\n",
       "      <td>tadgan</td>\n",
       "      <td>D-15</td>\n",
       "      <td>0</td>\n",
       "      <td>NaN</td>\n",
       "      <td>0.0</td>\n",
       "      <td>NaN</td>\n",
       "      <td>NaN</td>\n",
       "      <td>0</td>\n",
       "      <td>1</td>\n",
       "      <td>0</td>\n",
       "      <td>OK</td>\n",
       "      <td>252.389338</td>\n",
       "      <td>True</td>\n",
       "      <td>188dd61b-a</td>\n",
       "    </tr>\n",
       "    <tr>\n",
       "      <th>2464</th>\n",
       "      <td>MSL</td>\n",
       "      <td>tadgan</td>\n",
       "      <td>D-16</td>\n",
       "      <td>0</td>\n",
       "      <td>1.0</td>\n",
       "      <td>1.0</td>\n",
       "      <td>1.0</td>\n",
       "      <td>NaN</td>\n",
       "      <td>0</td>\n",
       "      <td>0</td>\n",
       "      <td>1</td>\n",
       "      <td>OK</td>\n",
       "      <td>177.529607</td>\n",
       "      <td>True</td>\n",
       "      <td>188dd61b-a</td>\n",
       "    </tr>\n",
       "  </tbody>\n",
       "</table>\n",
       "</div>"
      ],
      "text/plain": [
       "     dataset pipeline signal  iteration   f1  recall  precision  tn  fp  fn  \\\n",
       "2460     MSL   tadgan    C-1          0  NaN     0.0        NaN NaN   0   2   \n",
       "2461     MSL   tadgan    C-2          0  NaN     0.0        NaN NaN   0   2   \n",
       "2462     MSL   tadgan   D-14          0  1.0     1.0        1.0 NaN   0   0   \n",
       "2463     MSL   tadgan   D-15          0  NaN     0.0        NaN NaN   0   1   \n",
       "2464     MSL   tadgan   D-16          0  1.0     1.0        1.0 NaN   0   0   \n",
       "\n",
       "      tp status     elapsed  split      run_id  \n",
       "2460   0     OK  253.075683   True  188dd61b-a  \n",
       "2461   0     OK  104.173888   True  188dd61b-a  \n",
       "2462   2     OK  439.866897   True  188dd61b-a  \n",
       "2463   0     OK  252.389338   True  188dd61b-a  \n",
       "2464   1     OK  177.529607   True  188dd61b-a  "
      ]
     },
     "execution_count": 111,
     "metadata": {},
     "output_type": "execute_result"
    }
   ],
   "source": [
    "import pandas as pd\n",
    "Pip='tadgan'\n",
    "Stat='OK'\n",
    "df=pd.read_csv(r'0.2.1.csv')\n",
    "f = df[df.pipeline==Pip]\n",
    "\n",
    "f.head()"
   ]
  },
  {
   "cell_type": "code",
   "execution_count": 71,
   "id": "261a10f4-d5a8-4ca3-a184-906198395489",
   "metadata": {},
   "outputs": [
    {
     "data": {
      "text/plain": [
       "array(['arima', 'azure', 'dense_autoencoder', 'lstm_autoencoder',\n",
       "       'lstm_dynamic_threshold', 'tadgan'], dtype=object)"
      ]
     },
     "execution_count": 71,
     "metadata": {},
     "output_type": "execute_result"
    }
   ],
   "source": [
    "df.pipeline.unique()"
   ]
  },
  {
   "cell_type": "code",
   "execution_count": 112,
   "id": "ad1ec8fb-66ce-4eb7-bc17-535125edf808",
   "metadata": {},
   "outputs": [
    {
     "name": "stdout",
     "output_type": "stream",
     "text": [
      "f_p_SMAP 39\n",
      "t_p_SMAP 51\n",
      "f_n_SMAP 16\n",
      "t_n_SMAP 18\n",
      "f_p_MSL 26\n",
      "t_p_MSL 24\n",
      "f_n_MSL 12\n",
      "t_n_MSL 12\n"
     ]
    }
   ],
   "source": [
    "##tadgan\n",
    "Totalanomaly_SMAP=69\n",
    "Totalanomaly_MSL=36\n",
    "SMAP_tadgan=f[f.dataset=='SMAP']\n",
    "SMAP_tadgan=SMAP_tadgan[SMAP_tadgan.pipeline==Pip]\n",
    "SMAP_tadgan=SMAP_tadgan[SMAP_tadgan.status==Stat]\n",
    "SMAP_tadgan.head()\n",
    "SMAP_tadgan.to_csv(\"SMAP_tadgan\")\n",
    "smap_unique=SMAP_tadgan.shape\n",
    "f_p=sum(SMAP_tadgan.fp)\n",
    "f_n=sum(SMAP_tadgan.fn)\n",
    "t_p=sum(SMAP_tadgan.tp)\n",
    "print(\"f_p_SMAP\",f_p)\n",
    "print(\"t_p_SMAP\",t_p)\n",
    "print(\"f_n_SMAP\",f_n)\n",
    "print(\"t_n_SMAP\",Totalanomaly_SMAP-t_p)\n",
    "MSL_tadgan=f[f.dataset=='MSL']\n",
    "\n",
    "MSL_tadgan=MSL_tadgan[MSL_tadgan.pipeline==Pip]\n",
    "MSL_tadgan=MSL_tadgan[MSL_tadgan.status==Stat]\n",
    "MSL_tadgan.head()\n",
    "MSL_tadgan.to_csv(\"MSL_tadgan\")\n",
    "f_p=sum(MSL_tadgan.fp)\n",
    "f_n=sum(MSL_tadgan.fn)\n",
    "t_p=sum(MSL_tadgan.tp)\n",
    "print(\"f_p_MSL\",f_p)\n",
    "print(\"t_p_MSL\",t_p)\n",
    "print(\"f_n_MSL\",f_n)\n",
    "print(\"t_n_MSL\",Totalanomaly_MSL-t_p)"
   ]
  },
  {
   "cell_type": "code",
   "execution_count": 113,
   "id": "ec8922a5-f951-4caa-bb3f-50c7de8f71a0",
   "metadata": {},
   "outputs": [
    {
     "name": "stdout",
     "output_type": "stream",
     "text": [
      "Precision_final_smap_tadgan 0.6979166666666666\n",
      "Recall_final_smap_tadgan 0.7767295597484277\n",
      "F1_final_smap_tadgan 0.6630727762803235\n"
     ]
    }
   ],
   "source": [
    "from statistics import mean\n",
    "import math\n",
    "F1y = [item for item in SMAP_tadgan.f1 if not(math.isnan(item)) == True]\n",
    "F1t = [0 if math.isnan(x) else x for x in SMAP_tadgan.f1]\n",
    "F1_final1=mean(F1t)\n",
    "Recall = [item for item in SMAP_tadgan.recall if not(math.isnan(item)) == True]\n",
    "Recall = [0 if math.isnan(x) else x for x in SMAP_tadgan.recall]\n",
    "Recall_final=mean(Recall)\n",
    "\n",
    "Precisiont = [item for item in SMAP_tadgan.precision if not(math.isnan(item)) == True]\n",
    "Precision_final=mean(Precisiont)\n",
    "print('Precision_final_smap_tadgan', Precision_final)\n",
    "print('Recall_final_smap_tadgan', Recall_final)\n",
    "\n",
    "print('F1_final_smap_tadgan',F1_final1)"
   ]
  },
  {
   "cell_type": "code",
   "execution_count": 114,
   "id": "98297bf7-7d7d-40b0-acf3-985c2a98884b",
   "metadata": {},
   "outputs": [
    {
     "name": "stdout",
     "output_type": "stream",
     "text": [
      "Precision_final_msl_tadgan 0.5920289855072464\n",
      "Recall_final_msl_tadgan 0.6851851851851852\n",
      "F1_final_msl_tadgan 0.545326278659612\n"
     ]
    }
   ],
   "source": [
    "from statistics import mean\n",
    "import math\n",
    "F1y = [item for item in MSL_tadgan.f1 if not(math.isnan(item)) == True]\n",
    "F1t = [0 if math.isnan(x) else x for x in MSL_tadgan.f1]\n",
    "F1_final1=mean(F1t)\n",
    "Recall = [item for item in MSL_tadgan.recall if not(math.isnan(item)) == True]\n",
    "Recall= [0 if math.isnan(x) else x for x in MSL_tadgan.recall]\n",
    "Recall_final=mean(Recall)\n",
    "\n",
    "Precisiont = [item for item in MSL_tadgan.precision if not(math.isnan(item)) == True]\n",
    "Precision_final=mean(Precisiont)\n",
    "print('Precision_final_msl_tadgan', Precision_final)\n",
    "print('Recall_final_msl_tadgan', Recall_final)\n",
    "\n",
    "print('F1_final_msl_tadgan',F1_final1)"
   ]
  },
  {
   "cell_type": "code",
   "execution_count": null,
   "id": "8a202fec-8ecd-40f4-8e01-515ffefdc33f",
   "metadata": {},
   "outputs": [],
   "source": []
  }
 ],
 "metadata": {
  "kernelspec": {
   "display_name": "Python 3",
   "language": "python",
   "name": "python3"
  },
  "language_info": {
   "codemirror_mode": {
    "name": "ipython",
    "version": 3
   },
   "file_extension": ".py",
   "mimetype": "text/x-python",
   "name": "python",
   "nbconvert_exporter": "python",
   "pygments_lexer": "ipython3",
   "version": "3.7.10"
  },
  "widgets": {
   "application/vnd.jupyter.widget-state+json": {
    "state": {},
    "version_major": 2,
    "version_minor": 0
   }
  }
 },
 "nbformat": 4,
 "nbformat_minor": 5
}
